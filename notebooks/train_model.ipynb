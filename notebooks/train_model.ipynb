{
 "cells": [
  {
   "cell_type": "markdown",
   "id": "8d364ab3",
   "metadata": {},
   "source": [
    "### Import all required libraries.\n",
    "\n",
    "pip install"
   ]
  },
  {
   "cell_type": "code",
   "execution_count": 49,
   "id": "b1ce219c",
   "metadata": {},
   "outputs": [],
   "source": [
    "import os\n",
    "import pandas as pd\n",
    "import numpy as np\n",
    "import matplotlib.pyplot as plt\n",
    "import random\n",
    "\n",
    "from sklearn.model_selection import train_test_split\n",
    "from sklearn.pipeline import Pipeline\n",
    "from sklearn.compose import ColumnTransformer\n",
    "from sklearn.impute import SimpleImputer\n",
    "from sklearn.preprocessing import StandardScaler, OneHotEncoder\n",
    "from sklearn.ensemble import RandomForestClassifier\n",
    "from sklearn.calibration import CalibratedClassifierCV, calibration_curve\n",
    "from sklearn.metrics import (\n",
    "    roc_auc_score,\n",
    "    brier_score_loss,\n",
    "    roc_curve,\n",
    "    precision_recall_curve,\n",
    "    f1_score,\n",
    "    precision_score,\n",
    "    recall_score\n",
    ")\n"
   ]
  },
  {
   "cell_type": "markdown",
   "id": "e9231d1e",
   "metadata": {},
   "source": [
    "### Loads a dataset from a specified file path, convert it in pandas DataFrame and cleans it by removing rows with missing values.\n"
   ]
  },
  {
   "cell_type": "code",
   "execution_count": 50,
   "id": "660c074d",
   "metadata": {},
   "outputs": [
    {
     "data": {
      "text/html": [
       "<div>\n",
       "<style scoped>\n",
       "    .dataframe tbody tr th:only-of-type {\n",
       "        vertical-align: middle;\n",
       "    }\n",
       "\n",
       "    .dataframe tbody tr th {\n",
       "        vertical-align: top;\n",
       "    }\n",
       "\n",
       "    .dataframe thead th {\n",
       "        text-align: right;\n",
       "    }\n",
       "</style>\n",
       "<table border=\"1\" class=\"dataframe\">\n",
       "  <thead>\n",
       "    <tr style=\"text-align: right;\">\n",
       "      <th></th>\n",
       "      <th>person_age</th>\n",
       "      <th>person_income</th>\n",
       "      <th>person_home_ownership</th>\n",
       "      <th>person_emp_length</th>\n",
       "      <th>loan_intent</th>\n",
       "      <th>loan_grade</th>\n",
       "      <th>loan_amnt</th>\n",
       "      <th>loan_int_rate</th>\n",
       "      <th>loan_status</th>\n",
       "      <th>loan_percent_income</th>\n",
       "      <th>cb_person_default_on_file</th>\n",
       "      <th>cb_person_cred_hist_length</th>\n",
       "    </tr>\n",
       "  </thead>\n",
       "  <tbody>\n",
       "    <tr>\n",
       "      <th>0</th>\n",
       "      <td>22</td>\n",
       "      <td>59000</td>\n",
       "      <td>RENT</td>\n",
       "      <td>123.0</td>\n",
       "      <td>PERSONAL</td>\n",
       "      <td>D</td>\n",
       "      <td>35000</td>\n",
       "      <td>16.02</td>\n",
       "      <td>1</td>\n",
       "      <td>0.59</td>\n",
       "      <td>Y</td>\n",
       "      <td>3</td>\n",
       "    </tr>\n",
       "    <tr>\n",
       "      <th>1</th>\n",
       "      <td>21</td>\n",
       "      <td>9600</td>\n",
       "      <td>OWN</td>\n",
       "      <td>5.0</td>\n",
       "      <td>EDUCATION</td>\n",
       "      <td>B</td>\n",
       "      <td>1000</td>\n",
       "      <td>11.14</td>\n",
       "      <td>0</td>\n",
       "      <td>0.10</td>\n",
       "      <td>N</td>\n",
       "      <td>2</td>\n",
       "    </tr>\n",
       "    <tr>\n",
       "      <th>2</th>\n",
       "      <td>25</td>\n",
       "      <td>9600</td>\n",
       "      <td>MORTGAGE</td>\n",
       "      <td>1.0</td>\n",
       "      <td>MEDICAL</td>\n",
       "      <td>C</td>\n",
       "      <td>5500</td>\n",
       "      <td>12.87</td>\n",
       "      <td>1</td>\n",
       "      <td>0.57</td>\n",
       "      <td>N</td>\n",
       "      <td>3</td>\n",
       "    </tr>\n",
       "    <tr>\n",
       "      <th>3</th>\n",
       "      <td>23</td>\n",
       "      <td>65500</td>\n",
       "      <td>RENT</td>\n",
       "      <td>4.0</td>\n",
       "      <td>MEDICAL</td>\n",
       "      <td>C</td>\n",
       "      <td>35000</td>\n",
       "      <td>15.23</td>\n",
       "      <td>1</td>\n",
       "      <td>0.53</td>\n",
       "      <td>N</td>\n",
       "      <td>2</td>\n",
       "    </tr>\n",
       "    <tr>\n",
       "      <th>4</th>\n",
       "      <td>24</td>\n",
       "      <td>54400</td>\n",
       "      <td>RENT</td>\n",
       "      <td>8.0</td>\n",
       "      <td>MEDICAL</td>\n",
       "      <td>C</td>\n",
       "      <td>35000</td>\n",
       "      <td>14.27</td>\n",
       "      <td>1</td>\n",
       "      <td>0.55</td>\n",
       "      <td>Y</td>\n",
       "      <td>4</td>\n",
       "    </tr>\n",
       "  </tbody>\n",
       "</table>\n",
       "</div>"
      ],
      "text/plain": [
       "   person_age  person_income person_home_ownership  person_emp_length  \\\n",
       "0          22          59000                  RENT              123.0   \n",
       "1          21           9600                   OWN                5.0   \n",
       "2          25           9600              MORTGAGE                1.0   \n",
       "3          23          65500                  RENT                4.0   \n",
       "4          24          54400                  RENT                8.0   \n",
       "\n",
       "  loan_intent loan_grade  loan_amnt  loan_int_rate  loan_status  \\\n",
       "0    PERSONAL          D      35000          16.02            1   \n",
       "1   EDUCATION          B       1000          11.14            0   \n",
       "2     MEDICAL          C       5500          12.87            1   \n",
       "3     MEDICAL          C      35000          15.23            1   \n",
       "4     MEDICAL          C      35000          14.27            1   \n",
       "\n",
       "   loan_percent_income cb_person_default_on_file  cb_person_cred_hist_length  \n",
       "0                 0.59                         Y                           3  \n",
       "1                 0.10                         N                           2  \n",
       "2                 0.57                         N                           3  \n",
       "3                 0.53                         N                           2  \n",
       "4                 0.55                         Y                           4  "
      ]
     },
     "execution_count": 50,
     "metadata": {},
     "output_type": "execute_result"
    }
   ],
   "source": [
    "base_dir = os.path.dirname(os.getcwd())\n",
    "file_path = os.path.join(base_dir, \"data\", \"credit_risk_dataset.csv\")\n",
    "\n",
    "df = pd.read_csv(file_path)\n",
    "\n",
    "df = df.dropna()\n",
    "\n",
    "df.head()"
   ]
  },
  {
   "cell_type": "markdown",
   "id": "e8baf176",
   "metadata": {},
   "source": [
    "### Splitting the dataframe into four subsets: X contains the features (input parameters), and Y contains the target variable. \n",
    "### The training set (train) represents 80% of the data used to train the model, while the test set (test) represents the remaining 20% used to evaluate the model's performance."
   ]
  },
  {
   "cell_type": "code",
   "execution_count": 51,
   "id": "3174b27a",
   "metadata": {},
   "outputs": [],
   "source": [
    "X = df[[\n",
    "    'person_age','person_income','person_home_ownership',\n",
    "    'person_emp_length','loan_intent','loan_grade',\n",
    "    'loan_amnt','loan_int_rate','loan_percent_income',\n",
    "    'cb_person_default_on_file','cb_person_cred_hist_length'\n",
    "]]\n",
    "y = df['loan_status']\n",
    "\n",
    "X_train, X_test, y_train, y_test = train_test_split(\n",
    "    X, y, test_size=0.2, random_state=42, stratify=y\n",
    ")"
   ]
  },
  {
   "cell_type": "markdown",
   "id": "0cc57b0a",
   "metadata": {},
   "source": [
    "### Preprocessing pipeline: imputes missing values and scales numerical features, while imputing and one-hot encoding categorical features, using a column transformer to apply the correct processing to each feature type."
   ]
  },
  {
   "cell_type": "code",
   "execution_count": 52,
   "id": "fb3e7dc1",
   "metadata": {},
   "outputs": [],
   "source": [
    "num_cols = [\n",
    "    'person_age','person_income','person_emp_length',\n",
    "    'loan_amnt','loan_int_rate','loan_percent_income',\n",
    "    'cb_person_cred_hist_length'\n",
    "]\n",
    "cat_cols = [\n",
    "    'person_home_ownership','loan_intent','loan_grade',\n",
    "    'cb_person_default_on_file'\n",
    "]\n",
    "\n",
    "preprocessor = ColumnTransformer([\n",
    "    ('num', Pipeline([\n",
    "        ('imp', SimpleImputer(strategy='median')),\n",
    "        ('sc',  StandardScaler())\n",
    "    ]), num_cols),\n",
    "    ('cat', Pipeline([\n",
    "        ('imp', SimpleImputer(strategy='most_frequent')),\n",
    "        ('ohe', OneHotEncoder(handle_unknown='ignore'))\n",
    "    ]), cat_cols)\n",
    "])"
   ]
  },
  {
   "cell_type": "markdown",
   "id": "a513cdae",
   "metadata": {},
   "source": [
    "### Trains a calibrated random forest classifier to handle class imbalance, and predicts calibrated probabilities on the test set."
   ]
  },
  {
   "cell_type": "code",
   "execution_count": 53,
   "id": "263b0d12",
   "metadata": {},
   "outputs": [],
   "source": [
    "base_rf = RandomForestClassifier(\n",
    "    class_weight='balanced', n_estimators=200,\n",
    "    max_depth=10, random_state=42, n_jobs=-1\n",
    ")\n",
    "\n",
    "clf = Pipeline([\n",
    "    ('prep', preprocessor),\n",
    "    ('cal',  CalibratedClassifierCV(base_rf, cv=5, method='sigmoid'))\n",
    "])\n",
    "\n",
    "clf.fit(X_train, y_train)\n",
    "proba = clf.predict_proba(X_test)[:, 1]"
   ]
  },
  {
   "cell_type": "markdown",
   "id": "e234c672",
   "metadata": {},
   "source": [
    "### Evaluates the model's performance using AUC to measure ranking ability and Brier score to assess the accuracy of predicted probabilities."
   ]
  },
  {
   "cell_type": "code",
   "execution_count": 54,
   "id": "b2fb83d8",
   "metadata": {},
   "outputs": [
    {
     "name": "stdout",
     "output_type": "stream",
     "text": [
      "AUC = 0.926 \n",
      "Brier score = 0.065\n"
     ]
    }
   ],
   "source": [
    "auc   = roc_auc_score(y_test, proba)\n",
    "brier = brier_score_loss(y_test, proba)\n",
    "print(f\"AUC = {auc:.3f} \\nBrier score = {brier:.3f}\")\n"
   ]
  }
 ],
 "metadata": {
  "kernelspec": {
   "display_name": "risk_credit_venv",
   "language": "python",
   "name": "python3"
  },
  "language_info": {
   "codemirror_mode": {
    "name": "ipython",
    "version": 3
   },
   "file_extension": ".py",
   "mimetype": "text/x-python",
   "name": "python",
   "nbconvert_exporter": "python",
   "pygments_lexer": "ipython3",
   "version": "3.13.3"
  }
 },
 "nbformat": 4,
 "nbformat_minor": 5
}
